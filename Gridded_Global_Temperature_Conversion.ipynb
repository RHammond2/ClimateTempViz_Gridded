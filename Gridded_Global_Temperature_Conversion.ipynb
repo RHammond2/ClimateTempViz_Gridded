{
 "cells": [
  {
   "cell_type": "code",
   "execution_count": 1,
   "metadata": {
    "collapsed": true
   },
   "outputs": [],
   "source": [
    "import numpy as np\n",
    "import pandas as pd\n",
    "import os\n",
    "import csv\n",
    "import datetime\n",
    "\n",
    "%matplotlib inline\n",
    "\n",
    "#Data source: ftp://ftp.ncdc.noaa.gov/pub/data/noaaglobaltemp/operational/gridded/"
   ]
  },
  {
   "cell_type": "markdown",
   "metadata": {},
   "source": [
    "### Retrieve the data and put it in a useable format"
   ]
  },
  {
   "cell_type": "code",
   "execution_count": 2,
   "metadata": {
    "collapsed": true
   },
   "outputs": [],
   "source": [
    "f = open('NOAAGlobalTemp.gridded.v4.0.1.201701.asc', 'r')\n",
    "new = open('NOAAGlobalTempGrided.txt', 'w')\n",
    "reader = csv.reader(f, quoting=csv.QUOTE_NONE)\n",
    "for row in reader:\n",
    "    new.write(row[0])\n",
    "    new.write(\"\\n\")\n",
    "f.close()\n",
    "new.close()\n"
   ]
  },
  {
   "cell_type": "code",
   "execution_count": 3,
   "metadata": {
    "collapsed": false
   },
   "outputs": [],
   "source": [
    "latitude = np.arange(-87.5, 87.5 + 5., 5.)\n",
    "longitude = np.arange(2.5, 357.5 + 5., 5.)\n",
    "months = range(1,13)\n",
    "years = range(1880,2017)\n",
    "points = list()"
   ]
  },
  {
   "cell_type": "code",
   "execution_count": 4,
   "metadata": {
    "collapsed": false
   },
   "outputs": [
    {
     "name": "stdout",
     "output_type": "stream",
     "text": [
      "4261248 4\n"
     ]
    }
   ],
   "source": [
    "count=0\n",
    "for y in years:\n",
    "    for m in months:\n",
    "        for lat in latitude:\n",
    "            for lon in longitude:\n",
    "                points.append([datetime.datetime(year=y, month=m, day=1),lat,lon,0])\n",
    "                count += 1\n",
    "print count, len(points[0])"
   ]
  },
  {
   "cell_type": "code",
   "execution_count": 5,
   "metadata": {
    "collapsed": false
   },
   "outputs": [],
   "source": [
    "data = open('NOAAGlobalTempGrided.txt', 'r')\n",
    "\n",
    "count=0\n",
    "for line in data:\n",
    "    l = line.strip().split()\n",
    "    if len(l) == 72:\n",
    "        for reading in l:\n",
    "            try:\n",
    "                points[count][3] = float(reading)\n",
    "            except:\n",
    "                pass\n",
    "            count += 1    "
   ]
  },
  {
   "cell_type": "code",
   "execution_count": 6,
   "metadata": {
    "collapsed": false
   },
   "outputs": [
    {
     "data": {
      "text/plain": [
       "(4261248, 4)"
      ]
     },
     "execution_count": 6,
     "metadata": {},
     "output_type": "execute_result"
    }
   ],
   "source": [
    "points = np.array(points)\n",
    "points.shape"
   ]
  },
  {
   "cell_type": "code",
   "execution_count": 7,
   "metadata": {
    "collapsed": false
   },
   "outputs": [
    {
     "data": {
      "text/plain": [
       "(array([datetime.datetime(1880, 1, 1, 0, 0), -87.5, 2.5, -999.9], dtype=object),\n",
       " array([datetime.datetime(2016, 12, 1, 0, 0), 87.5, 357.5, -999.9], dtype=object),\n",
       " array([datetime.datetime(1880, 1, 1, 0, 0), -22.5, 322.5, 0.0029], dtype=object))"
      ]
     },
     "execution_count": 7,
     "metadata": {},
     "output_type": "execute_result"
    }
   ],
   "source": [
    "points[0], points[-1], points[1000]"
   ]
  },
  {
   "cell_type": "code",
   "execution_count": 8,
   "metadata": {
    "collapsed": false
   },
   "outputs": [],
   "source": [
    "temp = pd.DataFrame(points, index=None, columns=['date','latitdue','longitude','anomaly'])"
   ]
  },
  {
   "cell_type": "code",
   "execution_count": 9,
   "metadata": {
    "collapsed": false
   },
   "outputs": [
    {
     "data": {
      "text/html": [
       "<div>\n",
       "<table border=\"1\" class=\"dataframe\">\n",
       "  <thead>\n",
       "    <tr style=\"text-align: right;\">\n",
       "      <th></th>\n",
       "      <th>date</th>\n",
       "      <th>latitdue</th>\n",
       "      <th>longitude</th>\n",
       "      <th>anomaly</th>\n",
       "    </tr>\n",
       "  </thead>\n",
       "  <tbody>\n",
       "    <tr>\n",
       "      <th>0</th>\n",
       "      <td>1880-01-01 00:00:00</td>\n",
       "      <td>-87.5</td>\n",
       "      <td>2.5</td>\n",
       "      <td>-999.9</td>\n",
       "    </tr>\n",
       "    <tr>\n",
       "      <th>1</th>\n",
       "      <td>1880-01-01 00:00:00</td>\n",
       "      <td>-87.5</td>\n",
       "      <td>7.5</td>\n",
       "      <td>-999.9</td>\n",
       "    </tr>\n",
       "    <tr>\n",
       "      <th>2</th>\n",
       "      <td>1880-01-01 00:00:00</td>\n",
       "      <td>-87.5</td>\n",
       "      <td>12.5</td>\n",
       "      <td>-999.9</td>\n",
       "    </tr>\n",
       "    <tr>\n",
       "      <th>3</th>\n",
       "      <td>1880-01-01 00:00:00</td>\n",
       "      <td>-87.5</td>\n",
       "      <td>17.5</td>\n",
       "      <td>-999.9</td>\n",
       "    </tr>\n",
       "    <tr>\n",
       "      <th>4</th>\n",
       "      <td>1880-01-01 00:00:00</td>\n",
       "      <td>-87.5</td>\n",
       "      <td>22.5</td>\n",
       "      <td>-999.9</td>\n",
       "    </tr>\n",
       "  </tbody>\n",
       "</table>\n",
       "</div>"
      ],
      "text/plain": [
       "                  date latitdue longitude anomaly\n",
       "0  1880-01-01 00:00:00    -87.5       2.5  -999.9\n",
       "1  1880-01-01 00:00:00    -87.5       7.5  -999.9\n",
       "2  1880-01-01 00:00:00    -87.5      12.5  -999.9\n",
       "3  1880-01-01 00:00:00    -87.5      17.5  -999.9\n",
       "4  1880-01-01 00:00:00    -87.5      22.5  -999.9"
      ]
     },
     "execution_count": 9,
     "metadata": {},
     "output_type": "execute_result"
    }
   ],
   "source": [
    "temp.head()"
   ]
  },
  {
   "cell_type": "code",
   "execution_count": 10,
   "metadata": {
    "collapsed": true
   },
   "outputs": [],
   "source": [
    "temp.to_csv('NOAAGriddedGlobalTempData.csv',sep=',',index=False)"
   ]
  },
  {
   "cell_type": "code",
   "execution_count": 11,
   "metadata": {
    "collapsed": false
   },
   "outputs": [
    {
     "data": {
      "image/png": "[encoded data removed]",
      "text/plain": [
       "<matplotlib.figure.Figure at 0x104796e50>"
      ]
     },
     "metadata": {},
     "output_type": "display_data"
    }
   ],
   "source": [
    "temp_1 = temp[temp['anomaly']>-999]\n",
    "p=temp_1.anomaly.hist(bins=20)"
   ]
  },
  {
   "cell_type": "code",
   "execution_count": 12,
   "metadata": {
    "collapsed": false
   },
   "outputs": [],
   "source": [
    "temp201608 = temp[temp['date']==datetime.datetime(year=2016,month=8,day=1)]\n",
    "temp201608.to_csv('NOAAGriddedGlobalTempData_082016.csv',sep=',',index=False)"
   ]
  },
  {
   "cell_type": "markdown",
   "metadata": {},
   "source": [
    "#### Look at the distribution of the data"
   ]
  },
  {
   "cell_type": "code",
   "execution_count": 13,
   "metadata": {
    "collapsed": false
   },
   "outputs": [
    {
     "data": {
      "image/png": "[encoded data removed]",
      "text/plain": [
       "<matplotlib.figure.Figure at 0x110a32210>"
      ]
     },
     "metadata": {},
     "output_type": "display_data"
    }
   ],
   "source": [
    "p=temp201608[(temp201608['anomaly']>-0.5) & (temp201608['anomaly']<0.5)].anomaly.hist(bins=100)"
   ]
  },
  {
   "cell_type": "code",
   "execution_count": 15,
   "metadata": {
    "collapsed": false
   },
   "outputs": [
    {
     "data": {
      "image/png": "[encoded data removed]",
      "text/plain": [
       "<matplotlib.figure.Figure at 0x110bde890>"
      ]
     },
     "metadata": {},
     "output_type": "display_data"
    }
   ],
   "source": [
    "p=temp201608[(temp201608['anomaly']>-5) & (temp201608['anomaly']<5)].anomaly.hist(bins=100)"
   ]
  },
  {
   "cell_type": "code",
   "execution_count": null,
   "metadata": {
    "collapsed": true
   },
   "outputs": [],
   "source": []
  }
 ],
 "metadata": {
  "anaconda-cloud": {},
  "kernelspec": {
   "display_name": "Python [py27]",
   "language": "python",
   "name": "Python [py27]"
  },
  "language_info": {
   "codemirror_mode": {
    "name": "ipython",
    "version": 2
   },
   "file_extension": ".py",
   "mimetype": "text/x-python",
   "name": "python",
   "nbconvert_exporter": "python",
   "pygments_lexer": "ipython2",
   "version": "2.7.12"
  }
 },
 "nbformat": 4,
 "nbformat_minor": 0
}
